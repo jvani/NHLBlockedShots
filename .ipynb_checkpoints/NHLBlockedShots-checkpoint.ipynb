{
 "cells": [
  {
   "cell_type": "code",
   "execution_count": 1,
   "metadata": {
    "collapsed": false
   },
   "outputs": [
    {
     "data": {
      "application/javascript": [
       "$.getScript('https://kmahelona.github.io/ipython_notebook_goodies/ipython_notebook_toc.js')"
      ],
      "text/plain": [
       "<IPython.core.display.Javascript object>"
      ]
     },
     "metadata": {},
     "output_type": "display_data"
    }
   ],
   "source": [
    "%%javascript\n",
    "$.getScript('https://kmahelona.github.io/ipython_notebook_goodies/ipython_notebook_toc.js')"
   ]
  },
  {
   "cell_type": "markdown",
   "metadata": {},
   "source": [
    "<h1 id=\"tocheading\">Table of Contents</h1>\n",
    "<div id=\"toc\"></div>\n",
    "\n",
    "# NHL Blocked Shots Analysis\n",
    "## Imports"
   ]
  },
  {
   "cell_type": "code",
   "execution_count": 3,
   "metadata": {
    "collapsed": false
   },
   "outputs": [],
   "source": [
    "import os\n",
    "import json\n",
    "import numpy as np\n",
    "import pandas as pd\n",
    "import seaborn as sns\n",
    "import plotly.tools as tls\n",
    "import plotly.plotly as py\n",
    "import plotly.graph_objs as go\n",
    "import matplotlib.pyplot as pl\n",
    "import statsmodels.formula.api as sm\n",
    "from scipy import stats\n",
    "\n",
    "%matplotlib inline"
   ]
  },
  {
   "cell_type": "markdown",
   "metadata": {},
   "source": [
    "## Load Data"
   ]
  },
  {
   "cell_type": "code",
   "execution_count": 4,
   "metadata": {
    "collapsed": false
   },
   "outputs": [],
   "source": [
    "wins = {}\n",
    "blocks = {}\n",
    "blockssum = {}\n",
    "teams = json.load(open('NHL_Teams.json', 'r'))\n",
    "\n",
    "for i in np.delete(np.arange(2009, 2016), 3):\n",
    "    # Load data into DataFrames stored in dictionaries.\n",
    "    wins[str(i)] = pd.read_csv('Wins/Wins{}.txt'.format(str(i)))\n",
    "    blocks[str(i)] = pd.read_csv(\n",
    "        'BlockedShots/BlockedShots{}.csv'.format(str(i)))\n",
    "\n",
    "    # Clean wins data.\n",
    "    wins[str(i)] = wins[str(i)][[0, 1, 4, 5, 6, 7]].copy()\n",
    "    wins[str(i)].dropna(how='any', subset=['Rk'], inplace=True)\n",
    "    wins[str(i)].rename(columns={'Unnamed: 1': 'Team'}, inplace=True)\n",
    "    wins[str(i)]['Team'] = wins[str(i)].Team.str.strip('*')\n",
    "    wins[str(i)]['Team'].replace(teams, inplace=True)\n",
    "    wins[str(i)]['Year'] = i\n",
    "    wins[str(i)]['UniqueID'] = wins[str(i)]['Team'] + '_' + str(i)\n",
    "    wins[str(i)]['Playoffs'] = wins[str(i)]['Rk'] < 17\n",
    "\n",
    "    # Clean blocks data.\n",
    "    blocks[str(i)]['Year'] = str(i)\n",
    "    blocks[str(i)]['UniqueID'] = blocks[str(i)]['Team'] + '_' + str(i)\n",
    "    blocks[str(i)]['Blocks'] = pd.to_numeric(blocks[str(i)]['Blocks'],\n",
    "                                             errors='coerce')\n",
    "\n",
    "    # Create blocks summary data.\n",
    "    blockssum[str(i)] = pd.DataFrame(pd.pivot_table(\n",
    "            blocks[str(i)], values='Blocks', index='Team', aggfunc=np.sum))\n",
    "    blockssum[str(i)].reset_index(level=0, inplace=True)\n",
    "    blockssum[str(i)]['Year'] = str(i)\n",
    "    blockssum[str(i)]['UniqueID'] = blockssum[str(i)]['Team'] + '_' + str(i)\n",
    "\n",
    "# Concatenate all years at team level.\n",
    "TeamBlocks = pd.concat(blockssum.values(), ignore_index=True)\n",
    "TeamWins = pd.concat(wins.values(), ignore_index=True)\n",
    "\n",
    "# Merge blocks and wins at team level.\n",
    "data = TeamWins.merge(TeamBlocks, left_on='UniqueID',\n",
    "                      right_on='UniqueID', how='inner')\n",
    "data.drop(data.columns[[1, 6]], axis=1, inplace=True)\n",
    "data.rename(columns={'Team_y': 'Team', 'Year_y': 'Year'}, inplace=True)\n",
    "data['RRk'] = 31 - data.Rk"
   ]
  },
  {
   "cell_type": "markdown",
   "metadata": {},
   "source": [
    "# Do players on good teams block more shots than players on bad teams?\n",
    "\n",
    "$H_o$: Players on teams who make the playoffs block the same or less shots than players on teams who miss the playoffs.\n",
    "\n",
    "$H_a$: Players on teams who make the playoffs block more shots than players on teams who miss the playoffs."
   ]
  },
  {
   "cell_type": "code",
   "execution_count": 5,
   "metadata": {
    "collapsed": false
   },
   "outputs": [],
   "source": [
    "# Concatenate all years of player blocks.\n",
    "PlayerBlocks = pd.concat(blocks.values(), ignore_index=True)\n",
    "\n",
    "# Merge player blocks with team wins.\n",
    "playerdata = PlayerBlocks.merge(TeamWins, left_on='UniqueID',\n",
    "                                right_on='UniqueID', how='inner')\n",
    "playerdata.drop(playerdata.columns[[2, 5, 8, 13]], axis=1, inplace=True)\n",
    "playerdata.dropna(axis=0, how='any', inplace=True)\n",
    "\n",
    "# Query for players who made the playoffs & those who didn't.\n",
    "playoffs = playerdata.query('Playoffs == True').copy()\n",
    "noplayoffs = playerdata.query('Playoffs == False').copy()"
   ]
  },
  {
   "cell_type": "code",
   "execution_count": 6,
   "metadata": {
    "collapsed": false
   },
   "outputs": [
    {
     "data": {
      "text/plain": [
       "<matplotlib.text.Text at 0x118034a10>"
      ]
     },
     "execution_count": 6,
     "metadata": {},
     "output_type": "execute_result"
    },
    {
     "data": {
      "image/png": "[encoded data removed]",
      "text/plain": [
       "<matplotlib.figure.Figure at 0x114cceb90>"
      ]
     },
     "metadata": {},
     "output_type": "display_data"
    }
   ],
   "source": [
    "# Plot histogram of player blocks by teams who made the playoffs.\n",
    "b = np.arange(0, 300, 10)\n",
    "fig, (ax1, ax2) = pl.subplots(nrows=1, ncols=2, figsize=(16, 8))\n",
    "pl.tight_layout(pad=5)\n",
    "\n",
    "ax1.hist(playoffs['Blocks'], bins=b, alpha=0.6, facecolor='k',\n",
    "         weights=(np.ones_like(playoffs['Blocks']) /\n",
    "                  float(len(playoffs['Blocks']))),\n",
    "         label=\"Player Block Proportion\")\n",
    "ax1.axis([0, 300, 0, 0.4])\n",
    "ax1.set_xlabel('Blocks')\n",
    "ax1.set_ylabel('Proportion of Players')\n",
    "ax1.set_title(('Proportion of Players Blocking (x) Shots on Teams ',\n",
    "               'Who Missed the Playoffs'), y=1.02, fontsize=14)\n",
    "\n",
    "ax2.hist(noplayoffs['Blocks'], bins=b, alpha=0.6, facecolor='g',\n",
    "         weights=(np.ones_like(noplayoffs['Blocks']) /\n",
    "                  float(len(noplayoffs['Blocks']))),\n",
    "         label=\"Player Block Proportion\")\n",
    "ax2.axis([0, 300, 0, 0.4])\n",
    "ax2.set_xlabel('Blocks')\n",
    "ax2.set_ylabel('Proportion of Players')\n",
    "ax2.set_title(('Proportion of Players Blocking (x) Shots on Teams ',\n",
    "               'Who Made the Playoffs'), y=1.02, fontsize=14)"
   ]
  },
  {
   "cell_type": "code",
   "execution_count": 7,
   "metadata": {
    "collapsed": false,
    "scrolled": true
   },
   "outputs": [
    {
     "data": {
      "text/plain": [
       "<matplotlib.text.Text at 0x11886b650>"
      ]
     },
     "execution_count": 7,
     "metadata": {},
     "output_type": "execute_result"
    },
    {
     "data": {
      "image/png": "[encoded data removed]",
      "text/plain": [
       "<matplotlib.figure.Figure at 0x118452d90>"
      ]
     },
     "metadata": {},
     "output_type": "display_data"
    }
   ],
   "source": [
    "# Plot box plot of both distributions.\n",
    "fig, (ax1) = pl.subplots(nrows=1, ncols=1, figsize=(16, 3))\n",
    "blockdata = [playoffs['Blocks'], noplayoffs['Blocks']]\n",
    "colors = ['g', 'k']\n",
    "\n",
    "flierprops = dict(marker='o', markerfacecolor='black',\n",
    "                  markersize=5, linestyle='none', alpha=0.1)\n",
    "\n",
    "meanpointprops = dict(marker='o', markersize=5,\n",
    "                      markerfacecolor='r', linestyle='none')\n",
    "\n",
    "box = ax1.boxplot(blockdata, vert=False, widths=0.5,\n",
    "                  labels=['Made the Playoffs', 'Missed the Playoffs'],\n",
    "                  patch_artist=True, showmeans=True, flierprops=flierprops,\n",
    "                  meanprops=meanpointprops)\n",
    "\n",
    "for patch, x in zip(box['boxes'], colors):\n",
    "    patch.set(facecolor=x, alpha=0.6, linewidth=0)\n",
    "\n",
    "pl.setp(box['whiskers'], color='k', linestyle='-')\n",
    "ax1.axis([0, 300, 0, 3])\n",
    "ax1.set_xlabel('Blocks')\n",
    "ax1.set_title('Distribution of Blocked Shots', y=1.05, fontsize=14)"
   ]
  },
  {
   "cell_type": "code",
   "execution_count": 8,
   "metadata": {
    "collapsed": false
   },
   "outputs": [
    {
     "name": "stdout",
     "output_type": "stream",
     "text": [
      "Ks_2sampResult(statistic=0.049410497034784229, pvalue=0.0014921319669529932)\n"
     ]
    }
   ],
   "source": [
    "print stats.ks_2samp(playoffs['Blocks'], noplayoffs['Blocks'])"
   ]
  },
  {
   "cell_type": "markdown",
   "metadata": {},
   "source": [
    "## Finding:\n",
    "There is a significant difference between the distribution of blocked shots on playoff teams and non-playoff teams.\n",
    "# Do blocked shots translate to wins?\n",
    "$H_o$: Blocked shots do not have a relationship with wins.\n",
    "\n",
    "$H_a$: Blocked shots have a relationship with wins."
   ]
  },
  {
   "cell_type": "code",
   "execution_count": 16,
   "metadata": {
    "collapsed": false
   },
   "outputs": [
    {
     "name": "stdout",
     "output_type": "stream",
     "text": [
      "y =  0.00917 x + 30.38\n"
     ]
    },
    {
     "data": {
      "text/html": [
       "<table class=\"simpletable\">\n",
       "<caption>OLS Regression Results</caption>\n",
       "<tr>\n",
       "  <th>Dep. Variable:</th>            <td>W</td>        <th>  R-squared:         </th> <td>   0.035</td>\n",
       "</tr>\n",
       "<tr>\n",
       "  <th>Model:</th>                   <td>OLS</td>       <th>  Adj. R-squared:    </th> <td>   0.030</td>\n",
       "</tr>\n",
       "<tr>\n",
       "  <th>Method:</th>             <td>Least Squares</td>  <th>  F-statistic:       </th> <td>   6.468</td>\n",
       "</tr>\n",
       "<tr>\n",
       "  <th>Date:</th>             <td>Mon, 02 Jan 2017</td> <th>  Prob (F-statistic):</th>  <td>0.0118</td> \n",
       "</tr>\n",
       "<tr>\n",
       "  <th>Time:</th>                 <td>16:57:13</td>     <th>  Log-Likelihood:    </th> <td> -606.53</td>\n",
       "</tr>\n",
       "<tr>\n",
       "  <th>No. Observations:</th>      <td>   180</td>      <th>  AIC:               </th> <td>   1217.</td>\n",
       "</tr>\n",
       "<tr>\n",
       "  <th>Df Residuals:</th>          <td>   178</td>      <th>  BIC:               </th> <td>   1223.</td>\n",
       "</tr>\n",
       "<tr>\n",
       "  <th>Df Model:</th>              <td>     1</td>      <th>                     </th>     <td> </td>   \n",
       "</tr>\n",
       "<tr>\n",
       "  <th>Covariance Type:</th>      <td>nonrobust</td>    <th>                     </th>     <td> </td>   \n",
       "</tr>\n",
       "</table>\n",
       "<table class=\"simpletable\">\n",
       "<tr>\n",
       "      <td></td>         <th>coef</th>     <th>std err</th>      <th>t</th>      <th>P>|t|</th> <th>[95.0% Conf. Int.]</th> \n",
       "</tr>\n",
       "<tr>\n",
       "  <th>Intercept</th> <td>   30.3819</td> <td>    4.208</td> <td>    7.219</td> <td> 0.000</td> <td>   22.077    38.687</td>\n",
       "</tr>\n",
       "<tr>\n",
       "  <th>Blocks</th>    <td>    0.0092</td> <td>    0.004</td> <td>    2.543</td> <td> 0.012</td> <td>    0.002     0.016</td>\n",
       "</tr>\n",
       "</table>\n",
       "<table class=\"simpletable\">\n",
       "<tr>\n",
       "  <th>Omnibus:</th>       <td> 3.282</td> <th>  Durbin-Watson:     </th> <td>   0.587</td>\n",
       "</tr>\n",
       "<tr>\n",
       "  <th>Prob(Omnibus):</th> <td> 0.194</td> <th>  Jarque-Bera (JB):  </th> <td>   3.343</td>\n",
       "</tr>\n",
       "<tr>\n",
       "  <th>Skew:</th>          <td>-0.313</td> <th>  Prob(JB):          </th> <td>   0.188</td>\n",
       "</tr>\n",
       "<tr>\n",
       "  <th>Kurtosis:</th>      <td> 2.769</td> <th>  Cond. No.          </th> <td>9.31e+03</td>\n",
       "</tr>\n",
       "</table>"
      ],
      "text/plain": [
       "<class 'statsmodels.iolib.summary.Summary'>\n",
       "\"\"\"\n",
       "                            OLS Regression Results                            \n",
       "==============================================================================\n",
       "Dep. Variable:                      W   R-squared:                       0.035\n",
       "Model:                            OLS   Adj. R-squared:                  0.030\n",
       "Method:                 Least Squares   F-statistic:                     6.468\n",
       "Date:                Mon, 02 Jan 2017   Prob (F-statistic):             0.0118\n",
       "Time:                        16:57:13   Log-Likelihood:                -606.53\n",
       "No. Observations:                 180   AIC:                             1217.\n",
       "Df Residuals:                     178   BIC:                             1223.\n",
       "Df Model:                           1                                         \n",
       "Covariance Type:            nonrobust                                         \n",
       "==============================================================================\n",
       "                 coef    std err          t      P>|t|      [95.0% Conf. Int.]\n",
       "------------------------------------------------------------------------------\n",
       "Intercept     30.3819      4.208      7.219      0.000        22.077    38.687\n",
       "Blocks         0.0092      0.004      2.543      0.012         0.002     0.016\n",
       "==============================================================================\n",
       "Omnibus:                        3.282   Durbin-Watson:                   0.587\n",
       "Prob(Omnibus):                  0.194   Jarque-Bera (JB):                3.343\n",
       "Skew:                          -0.313   Prob(JB):                        0.188\n",
       "Kurtosis:                       2.769   Cond. No.                     9.31e+03\n",
       "==============================================================================\n",
       "\n",
       "Warnings:\n",
       "[1] Standard Errors assume that the covariance matrix of the errors is correctly specified.\n",
       "[2] The condition number is large, 9.31e+03. This might indicate that there are\n",
       "strong multicollinearity or other numerical problems.\n",
       "\"\"\""
      ]
     },
     "execution_count": 16,
     "metadata": {},
     "output_type": "execute_result"
    }
   ],
   "source": [
    "# OLS of wins and blocks.\n",
    "results = sm.ols('W ~ Blocks', data=data).fit()\n",
    "print \"y = \", results.params[1].round(5), \"x +\", results.params[0].round(2)\n",
    "results.summary()"
   ]
  },
  {
   "cell_type": "code",
   "execution_count": 17,
   "metadata": {
    "collapsed": false
   },
   "outputs": [
    {
     "data": {
      "text/html": [
       "<iframe id=\"igraph\" scrolling=\"no\" style=\"border:none;\" seamless=\"seamless\" src=\"https://plot.ly/~jvani/8.embed\" height=\"525px\" width=\"100%\"></iframe>"
      ],
      "text/plain": [
       "<plotly.tools.PlotlyDisplay object>"
      ]
     },
     "execution_count": 17,
     "metadata": {},
     "output_type": "execute_result"
    }
   ],
   "source": [
    "# Plot scatter plot of team wins and blocks.\n",
    "tls.set_credentials_file(username='jvani', api_key=os.getenv('PLOTLY_API'))\n",
    "label = 'Team: ' + data['Team'] + '<br>Year: ' + data['Year']\n",
    "OLS_line = data.Blocks * results.params[1] + results.params[0]\n",
    "\n",
    "team_data = go.Scattergl(x=data.Blocks, y=data.W, mode='markers',\n",
    "                         marker=dict(color='rgb(0, 0, 0)'), name='Teams',\n",
    "                         text=label)\n",
    "\n",
    "l_data = go.Scattergl(x=data.Blocks, y=OLS_line, mode='lines',\n",
    "                      marker=dict(color='rgb(255, 0, 0)'),\n",
    "                      name='OLS Regression')\n",
    "\n",
    "layout = go.Layout(title='Wins vs. Blocked Shots For Every Team Since 2009',\n",
    "                   plot_bgcolor='rgb(229, 229, 229)',\n",
    "                   xaxis=go.XAxis(zerolinecolor='rgb(255,255,255)',\n",
    "                                  gridcolor='rgb(255,255,255)',\n",
    "                                  title='Blocked Shots'),\n",
    "                   yaxis=go.YAxis(zerolinecolor='rgb(255,255,255)',\n",
    "                                  gridcolor='rgb(255,255,255)',\n",
    "                                  title='Wins'))\n",
    "\n",
    "py_data = [team_data, l_data]\n",
    "fig = go.Figure(data=py_data, layout=layout)\n",
    "\n",
    "py.iplot(fig, filename='NHL_Team_Blocks')"
   ]
  },
  {
   "cell_type": "markdown",
   "metadata": {},
   "source": [
    "## Finding:\n",
    "Blocked shots have a positive relationship with wins."
   ]
  },
  {
   "cell_type": "code",
   "execution_count": 12,
   "metadata": {
    "collapsed": true
   },
   "outputs": [],
   "source": [
    "# Export data.\n",
    "data.to_csv('TeamBlocks.csv')\n",
    "playerdata.to_csv('PlayerBlocks.csv')"
   ]
  },
  {
   "cell_type": "code",
   "execution_count": null,
   "metadata": {
    "collapsed": true
   },
   "outputs": [],
   "source": []
  }
 ],
 "metadata": {
  "kernelspec": {
   "display_name": "Python 2",
   "language": "python",
   "name": "python2"
  },
  "language_info": {
   "codemirror_mode": {
    "name": "ipython",
    "version": 2
   },
   "file_extension": ".py",
   "mimetype": "text/x-python",
   "name": "python",
   "nbconvert_exporter": "python",
   "pygments_lexer": "ipython2",
   "version": "2.7.12"
  }
 },
 "nbformat": 4,
 "nbformat_minor": 1
}
